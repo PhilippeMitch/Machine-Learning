{
 "cells": [
  {
   "cell_type": "code",
   "execution_count": 34,
   "metadata": {},
   "outputs": [],
   "source": [
    "# import the libraries\n",
    "\n",
    "# for cleaning, transforming, manipulating and analyzing data\n",
    "import pandas as pd\n",
    "# to operate on multi-dimensional arrays and matrices\n",
    "import numpy as np\n",
    "# \n",
    "from sklearn.cluster import KMeans\n",
    "import matplotlib.pyplot as plt\n",
    "import seaborn as sns"
   ]
  },
  {
   "cell_type": "code",
   "execution_count": 24,
   "metadata": {},
   "outputs": [],
   "source": [
    "# load our dataset\n",
    "dataset = pd.read_csv('credit_bank.csv')"
   ]
  },
  {
   "cell_type": "code",
   "execution_count": 3,
   "metadata": {},
   "outputs": [
    {
     "data": {
      "text/html": [
       "<div>\n",
       "<style scoped>\n",
       "    .dataframe tbody tr th:only-of-type {\n",
       "        vertical-align: middle;\n",
       "    }\n",
       "\n",
       "    .dataframe tbody tr th {\n",
       "        vertical-align: top;\n",
       "    }\n",
       "\n",
       "    .dataframe thead th {\n",
       "        text-align: right;\n",
       "    }\n",
       "</style>\n",
       "<table border=\"1\" class=\"dataframe\">\n",
       "  <thead>\n",
       "    <tr style=\"text-align: right;\">\n",
       "      <th></th>\n",
       "      <th>epargne_millier</th>\n",
       "      <th>score_bank</th>\n",
       "    </tr>\n",
       "  </thead>\n",
       "  <tbody>\n",
       "    <tr>\n",
       "      <th>0</th>\n",
       "      <td>5.670925</td>\n",
       "      <td>-3.954058</td>\n",
       "    </tr>\n",
       "    <tr>\n",
       "      <th>1</th>\n",
       "      <td>4.571006</td>\n",
       "      <td>-6.710055</td>\n",
       "    </tr>\n",
       "    <tr>\n",
       "      <th>2</th>\n",
       "      <td>8.947935</td>\n",
       "      <td>-2.985525</td>\n",
       "    </tr>\n",
       "    <tr>\n",
       "      <th>3</th>\n",
       "      <td>7.718859</td>\n",
       "      <td>-7.143388</td>\n",
       "    </tr>\n",
       "    <tr>\n",
       "      <th>4</th>\n",
       "      <td>4.841131</td>\n",
       "      <td>-8.157681</td>\n",
       "    </tr>\n",
       "  </tbody>\n",
       "</table>\n",
       "</div>"
      ],
      "text/plain": [
       "   epargne_millier   score_bank\n",
       "0         5.670925    -3.954058\n",
       "1         4.571006    -6.710055\n",
       "2         8.947935    -2.985525\n",
       "3         7.718859    -7.143388\n",
       "4         4.841131    -8.157681"
      ]
     },
     "execution_count": 3,
     "metadata": {},
     "output_type": "execute_result"
    }
   ],
   "source": [
    "dataset.head()"
   ]
  },
  {
   "cell_type": "code",
   "execution_count": 4,
   "metadata": {},
   "outputs": [
    {
     "data": {
      "text/plain": [
       "<bound method DataFrame.isnull of      epargne_millier   score_bank\n",
       "0           5.670925    -3.954058\n",
       "1           4.571006    -6.710055\n",
       "2           8.947935    -2.985525\n",
       "3           7.718859    -7.143388\n",
       "4           4.841131    -8.157681\n",
       "..               ...          ...\n",
       "995         6.012179    -5.641998\n",
       "996         8.630878    -6.670323\n",
       "997         1.100931    -8.202524\n",
       "998         2.122938    -8.071836\n",
       "999         8.576970    -4.730180\n",
       "\n",
       "[1000 rows x 2 columns]>"
      ]
     },
     "execution_count": 4,
     "metadata": {},
     "output_type": "execute_result"
    }
   ],
   "source": [
    "dataset.isnull"
   ]
  },
  {
   "cell_type": "code",
   "execution_count": 5,
   "metadata": {},
   "outputs": [
    {
     "data": {
      "text/plain": [
       "(1000, 2)"
      ]
     },
     "execution_count": 5,
     "metadata": {},
     "output_type": "execute_result"
    }
   ],
   "source": [
    "dataset.shape"
   ]
  },
  {
   "cell_type": "code",
   "execution_count": 11,
   "metadata": {},
   "outputs": [],
   "source": [
    "# build our model\n",
    "kmeans = KMeans(\n",
    "    algorithm='auto', \n",
    "    copy_x=True, # the original data is not modified\n",
    "    init='k-means++', # selects initial cluster centers for k-mean clustering in a smart way to speed up convergence\n",
    "    max_iter=300, # Maximum number of iterations of the k-means algorithm\n",
    "    n_clusters=5, # The number of clusters to form\n",
    "    n_init=10, # Number of time the k-means algorithm will be run with different centroid seeds\n",
    "    n_jobs=1, # The number of jobs to use for the computation\n",
    "    precompute_distances='auto', # do not precompute distances if n_samples * n_clusters > 12 million\n",
    "    random_state=None, # Determines random number generation for centroid initialization\n",
    "    tol=0.0001, # Relative tolerance with regards to inertia to declare convergence\n",
    "    verbose=0 # Verbosity mode.\n",
    "    )\n",
    "# See the documentation => https://scikit-learn.org/stable/modules/generated/sklearn.cluster.KMeans.html"
   ]
  },
  {
   "cell_type": "code",
   "execution_count": 25,
   "metadata": {},
   "outputs": [
    {
     "data": {
      "text/plain": [
       "KMeans(algorithm='auto', copy_x=True, init='k-means++', max_iter=300,\n",
       "       n_clusters=5, n_init=10, n_jobs=1, precompute_distances='auto',\n",
       "       random_state=None, tol=0.0001, verbose=0)"
      ]
     },
     "execution_count": 25,
     "metadata": {},
     "output_type": "execute_result"
    }
   ],
   "source": [
    "# Fit the model on the data\n",
    "kmeans.fit(dataset)"
   ]
  },
  {
   "cell_type": "code",
   "execution_count": 26,
   "metadata": {},
   "outputs": [
    {
     "name": "stdout",
     "output_type": "stream",
     "text": [
      "[[ 7.25634309 -7.21688094]\n",
      " [ 9.0764255  -0.09608624]\n",
      " [ 2.36744436 -8.47741268]\n",
      " [ 8.35102305 -4.35985866]\n",
      " [ 4.08071665 -6.01930847]]\n"
     ]
    }
   ],
   "source": [
    "# Get the coordinates of the cluster centers\n",
    "print(kmeans.cluster_centers_)"
   ]
  },
  {
   "cell_type": "code",
   "execution_count": 27,
   "metadata": {},
   "outputs": [],
   "source": [
    "# Make a prediction\n",
    "y_kmeans = kmeans.fit_predict(dataset)"
   ]
  },
  {
   "cell_type": "code",
   "execution_count": 28,
   "metadata": {},
   "outputs": [],
   "source": [
    "data_array = dataset.values"
   ]
  },
  {
   "cell_type": "code",
   "execution_count": 29,
   "metadata": {},
   "outputs": [
    {
     "data": {
      "image/png": "[encoded data removed]",
      "text/plain": [
       "<Figure size 432x288 with 1 Axes>"
      ]
     },
     "metadata": {
      "needs_background": "light"
     },
     "output_type": "display_data"
    }
   ],
   "source": [
    "plt.scatter(data_array[y_kmeans == 0, 0], data_array[y_kmeans == 0, 1], s = 100, c = 'blue', label = 'Cluster 1')\n",
    "plt.scatter(data_array[y_kmeans == 1, 0], data_array[y_kmeans == 1, 1], s = 100, c = 'red', label = 'Cluster 2')\n",
    "plt.scatter(data_array[y_kmeans == 2, 0], data_array[y_kmeans == 2, 1], s = 100, c = 'yellow', label = 'Cluster 3')\n",
    "plt.scatter(data_array[y_kmeans == 3, 0], data_array[y_kmeans == 3, 1], s = 100, c = 'cyan', label = 'Cluster 4')\n",
    "plt.scatter(data_array[y_kmeans == 4, 0], data_array[y_kmeans == 4, 1], s = 100, c = 'magenta', label = 'Cluster 5')\n",
    "plt.scatter(kmeans.cluster_centers_[:, 0], kmeans.cluster_centers_[:, 1], s = 300, c = 'green', label='Centroids')\n",
    "plt.title('Credit Applicant Cluster')\n",
    "plt.xlabel('Savings in thousands')\n",
    "plt.ylabel('Score Bank')\n",
    "plt.legend()\n",
    "plt.show()"
   ]
  },
  {
   "cell_type": "code",
   "execution_count": 30,
   "metadata": {},
   "outputs": [
    {
     "data": {
      "text/plain": [
       "3119.780420245327"
      ]
     },
     "execution_count": 30,
     "metadata": {},
     "output_type": "execute_result"
    }
   ],
   "source": [
    "# get the inertia of our model\n",
    "kmeans.inertia_"
   ]
  },
  {
   "cell_type": "code",
   "execution_count": 31,
   "metadata": {},
   "outputs": [],
   "source": [
    "# list of clusters\n",
    "clusters = [1,2,3,4,5,6,7,8,9,10]\n",
    "inertia_values = []"
   ]
  },
  {
   "cell_type": "code",
   "execution_count": 32,
   "metadata": {},
   "outputs": [],
   "source": [
    "for cluster in clusters:\n",
    "    kmeans = KMeans(n_clusters = cluster)\n",
    "    kmeans.fit(dataset)\n",
    "    inertia_values.append(kmeans.inertia_)"
   ]
  },
  {
   "cell_type": "code",
   "execution_count": 35,
   "metadata": {},
   "outputs": [
    {
     "data": {
      "image/png": "[encoded data removed]",
      "text/plain": [
       "<Figure size 432x288 with 1 Axes>"
      ]
     },
     "metadata": {
      "needs_background": "light"
     },
     "output_type": "display_data"
    }
   ],
   "source": [
    "sns.pointplot(x = clusters, y = inertia_values)\n",
    "plt.xlabel('Number of clusters')\n",
    "plt.ylabel('Inertia value')\n",
    "plt.title('Number of clusters vs. inertia value')\n",
    "plt.show()"
   ]
  },
  {
   "cell_type": "code",
   "execution_count": null,
   "metadata": {},
   "outputs": [],
   "source": [
    " "
   ]
  }
 ],
 "metadata": {
  "kernelspec": {
   "display_name": "Python 3",
   "language": "python",
   "name": "python3"
  },
  "language_info": {
   "codemirror_mode": {
    "name": "ipython",
    "version": 3
   },
   "file_extension": ".py",
   "mimetype": "text/x-python",
   "name": "python",
   "nbconvert_exporter": "python",
   "pygments_lexer": "ipython3",
   "version": "3.6.5"
  }
 },
 "nbformat": 4,
 "nbformat_minor": 4
}
